{
 "cells": [
  {
   "cell_type": "markdown",
   "id": "b664c2ec",
   "metadata": {},
   "source": [
    "# Ollama Notebook \n",
    " A notebook to extract relevant, predefined parameters from research articles and provide the results in a desired format. "
   ]
  },
  {
   "cell_type": "code",
   "execution_count": 3,
   "id": "bd9b8f81",
   "metadata": {},
   "outputs": [],
   "source": [
    "# if required\n",
    "# !pip install pymupdf "
   ]
  },
  {
   "cell_type": "code",
   "execution_count": 4,
   "id": "2dfde820",
   "metadata": {},
   "outputs": [],
   "source": [
    "# importing relevant libraries \n",
    "import pandas as pd\n",
    "import fitz\n",
    "import json\n",
    "import subprocess\n",
    "import os  \n",
    "from tqdm import tqdm"
   ]
  },
  {
   "cell_type": "code",
   "execution_count": 5,
   "id": "979227cd",
   "metadata": {},
   "outputs": [],
   "source": [
    "os.environ['CUDA_VISIBLE_DEVICES'] = 'GPU-4ce5b5b6-0e10-58a3-b09a-2f4946277a5a'"
   ]
  },
  {
   "cell_type": "markdown",
   "id": "312454f4",
   "metadata": {},
   "source": [
    "The `extract_text` function reads in a pdf, and appends the entire content into a single string. It takes the path to a pdf as its argument."
   ]
  },
  {
   "cell_type": "code",
   "execution_count": 6,
   "id": "6a0790c1",
   "metadata": {},
   "outputs": [],
   "source": [
    "def extract_text (pdf_path):\n",
    "    document = fitz.open(pdf_path)\n",
    "    text = ''\n",
    "    for page in tqdm(document):\n",
    "        text += page.get_text('text') + '\\n'\n",
    "    return text "
   ]
  },
  {
   "cell_type": "markdown",
   "id": "73ef47aa",
   "metadata": {},
   "source": [
    "Debugging cell"
   ]
  },
  {
   "cell_type": "code",
   "execution_count": 7,
   "id": "1419dcf4",
   "metadata": {},
   "outputs": [],
   "source": [
    "def save_text(\n",
    "        text,\n",
    "        ouput = 'text.txt'\n",
    "        ):\n",
    "    with open(ouput,'w', encoding='utf-8') as file:\n",
    "        file.write(text)"
   ]
  },
  {
   "cell_type": "code",
   "execution_count": 8,
   "id": "ea0b3692",
   "metadata": {},
   "outputs": [
    {
     "name": "stderr",
     "output_type": "stream",
     "text": [
      "100%|██████████| 12/12 [00:00<00:00, 213.98it/s]\n"
     ]
    }
   ],
   "source": [
    "save_text(text = extract_text('./articles/d4nr00473f.pdf'))"
   ]
  },
  {
   "cell_type": "markdown",
   "id": "dd437040",
   "metadata": {},
   "source": [
    "`query_ollama` function calls the local Ollama LLM in this case. The argument for this function are\n",
    "\n",
    "* prompt in utf-8 string format \n",
    "* desired model - 'mistral' is the default argument"
   ]
  },
  {
   "cell_type": "code",
   "execution_count": 9,
   "id": "3e5ba790",
   "metadata": {},
   "outputs": [
    {
     "data": {
      "text/plain": [
       "'C:\\\\Users\\\\Faisal\\\\AppData\\\\Local\\\\Programs\\\\Ollama'"
      ]
     },
     "execution_count": 9,
     "metadata": {},
     "output_type": "execute_result"
    }
   ],
   "source": [
    "ollama_path = r\"C:\\Users\\Faisal\\AppData\\Local\\Programs\\Ollama\"\n",
    "ollama_path"
   ]
  },
  {
   "cell_type": "code",
   "execution_count": 10,
   "id": "a4c8af5f",
   "metadata": {},
   "outputs": [],
   "source": [
    "def query_ollama (\n",
    "        prompt,\n",
    "        model = 'mistral'\n",
    "        ):\n",
    "    \n",
    "    ollama_path = r\"C:\\Users\\Faisal\\AppData\\Local\\Programs\\Ollama\\ollama.exe\"\n",
    "    #path to Ollama executable \n",
    "    result = subprocess.run(\n",
    "        [ollama_path, \"run\", model],\n",
    "        input=prompt.encode(\"utf-8\"),\n",
    "        capture_output=True\n",
    "    )\n",
    "    return result.stdout.decode(\"utf-8\")\n"
   ]
  },
  {
   "cell_type": "markdown",
   "id": "50ad3979",
   "metadata": {},
   "source": [
    "Prompt is defined here, model is queried and error handling is included. Arguments are:\n",
    " * extracted text from pdf and limited to first 2000 characters\n",
    " * model - default is 'mistral'\n",
    " \n",
    " Output should be the relevant conditions in json format."
   ]
  },
  {
   "cell_type": "code",
   "execution_count": 11,
   "id": "3e490913",
   "metadata": {},
   "outputs": [],
   "source": [
    "def extract_conditions(\n",
    "        text, \n",
    "        model=\"mistral\"\n",
    "        ):\n",
    "    prompt = f\"\"\"\n",
    "    Extract the following experimental parameters from the text:\n",
    "\n",
    "    - concentration\n",
    "    - hydrolysis ratio\n",
    "    - rate of base addition\n",
    "    - elemental cation ratio\n",
    "\n",
    "    Return ONLY a JSON array of objects with keys:\n",
    "    [\"parameter\", \"value\", \"unit\", \"context\"].\n",
    "\n",
    "    Text:\n",
    "    {text[:2000]}  # limit to first 2000 chars per call\n",
    "    \"\"\"\n",
    "    response = query_ollama(prompt, model=model)\n",
    "    \n",
    "    try:\n",
    "        data = json.loads(response)\n",
    "    except:\n",
    "        print(\"Could not parse JSON, raw output:\", response[:300])\n",
    "        data = []\n",
    "    \n",
    "    return data\n"
   ]
  },
  {
   "cell_type": "markdown",
   "id": "dfb0f6cf",
   "metadata": {},
   "source": [
    "Finally `process_pdfs` iterates through all the pdfs in a folder, extracts their text, prompts the LLM, and produces a `parsed_conditons.csv` file with the compiled conditions. Arguments are:\n",
    "* path to a folder containing the pdfs \n",
    "* path/name of the ouput csv file - default is `parsed_conditons.csv`\n",
    "* chosen model - default is 'mistral'\n",
    "\n",
    "Output is the csv file. "
   ]
  },
  {
   "cell_type": "code",
   "execution_count": 12,
   "id": "e797072f",
   "metadata": {},
   "outputs": [],
   "source": [
    "def process_pdfs(pdf_folder, output_csv=\"parsed_conditions.csv\", model=\"mistral\"):\n",
    "    all_data = []\n",
    "    all_text = []\n",
    "    \n",
    "    for file in tqdm(os.listdir(pdf_folder)):\n",
    "        if file.endswith(\".pdf\"):\n",
    "            print(f\"Processing {file}...\")\n",
    "            text = extract_text(os.path.join(pdf_folder, file))\n",
    "            conditions = extract_conditions(text, model=model)\n",
    "            for c in tqdm(conditions):\n",
    "                c[\"source\"] = file  # tag with filename\n",
    "            all_data.extend(conditions)\n",
    "\n",
    "            ##############\n",
    "            # adding function to save text for debugging\n",
    "            # text = save_text(text)\n",
    "            # all_text.append(text)\n",
    "\n",
    "    \n",
    "    df = pd.DataFrame(all_data)\n",
    "    df.to_csv(output_csv, index=False)\n",
    "    print(f\"Saved {len(df)} rows to {output_csv}\")\n"
   ]
  },
  {
   "cell_type": "markdown",
   "id": "f6522218",
   "metadata": {},
   "source": [
    "Here we call the `process_pdfs` function to analyze all the pdfs. Don't forget to add a path to the pdf folder "
   ]
  },
  {
   "cell_type": "code",
   "execution_count": 13,
   "id": "5a734f60",
   "metadata": {},
   "outputs": [
    {
     "name": "stderr",
     "output_type": "stream",
     "text": [
      "  0%|          | 0/1 [00:00<?, ?it/s]"
     ]
    },
    {
     "name": "stdout",
     "output_type": "stream",
     "text": [
      "Processing d4nr00473f.pdf...\n"
     ]
    },
    {
     "name": "stderr",
     "output_type": "stream",
     "text": [
      "100%|██████████| 12/12 [00:00<00:00, 344.60it/s]\n",
      "100%|██████████| 4/4 [00:00<00:00, 84733.41it/s]\n",
      "100%|██████████| 1/1 [02:50<00:00, 170.70s/it]"
     ]
    },
    {
     "name": "stdout",
     "output_type": "stream",
     "text": [
      "Saved 4 rows to parsed_conditions.csv\n"
     ]
    },
    {
     "name": "stderr",
     "output_type": "stream",
     "text": [
      "\n"
     ]
    }
   ],
   "source": [
    "process_pdfs(\n",
    "    pdf_folder='./articles',\n",
    "    output_csv='parsed_conditions.csv',\n",
    "    model='mistral'\n",
    ")"
   ]
  },
  {
   "cell_type": "code",
   "execution_count": null,
   "id": "22b6c624",
   "metadata": {},
   "outputs": [],
   "source": []
  },
  {
   "cell_type": "code",
   "execution_count": null,
   "id": "74c9511a",
   "metadata": {},
   "outputs": [],
   "source": []
  }
 ],
 "metadata": {
  "kernelspec": {
   "display_name": "Python 3",
   "language": "python",
   "name": "python3"
  },
  "language_info": {
   "codemirror_mode": {
    "name": "ipython",
    "version": 3
   },
   "file_extension": ".py",
   "mimetype": "text/x-python",
   "name": "python",
   "nbconvert_exporter": "python",
   "pygments_lexer": "ipython3",
   "version": "3.13.0"
  }
 },
 "nbformat": 4,
 "nbformat_minor": 5
}
