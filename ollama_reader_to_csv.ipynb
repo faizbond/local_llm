{
 "cells": [
  {
   "cell_type": "markdown",
   "id": "b664c2ec",
   "metadata": {},
   "source": [
    "# Ollama Notebook \n",
    " A notebook to extract relevant, predefined parameters from research articles and provide the results in a desired format. "
   ]
  },
  {
   "cell_type": "code",
   "execution_count": 1,
   "id": "bd9b8f81",
   "metadata": {},
   "outputs": [],
   "source": [
    "# if required\n",
    "# !pip install pymupdf "
   ]
  },
  {
   "cell_type": "code",
   "execution_count": 2,
   "id": "2dfde820",
   "metadata": {},
   "outputs": [],
   "source": [
    "# importing relevant libraries \n",
    "import pandas as pd\n",
    "import fitz\n",
    "import json\n",
    "import subprocess\n",
    "import os  \n",
    "from tqdm import tqdm\n",
    "import io\n",
    "from PIL import Image"
   ]
  },
  {
   "cell_type": "code",
   "execution_count": 3,
   "id": "979227cd",
   "metadata": {},
   "outputs": [],
   "source": [
    "# os.environ['CUDA_VISIBLE_DEVICES'] = 'GPU-4ce5b5b6-0e10-58a3-b09a-2f4946277a5a'"
   ]
  },
  {
   "cell_type": "markdown",
   "id": "312454f4",
   "metadata": {},
   "source": [
    "The `extract_text` function reads in a pdf, and appends the entire content into a single string. It takes the path to a pdf as its argument."
   ]
  },
  {
   "cell_type": "code",
   "execution_count": 4,
   "id": "6a0790c1",
   "metadata": {},
   "outputs": [],
   "source": [
    "def extract_text (pdf_path):\n",
    "    document = fitz.open(pdf_path)\n",
    "    text = ''\n",
    "    for page in tqdm(document):\n",
    "        text += page.get_text('text') + '\\n'\n",
    "    return text "
   ]
  },
  {
   "cell_type": "markdown",
   "id": "8424efba",
   "metadata": {},
   "source": [
    "`pdf_to_images` converts the pdfs to images for easier extraction of structured data. Noticed in preliminary trials that normal text extraction can lead to wonky results and resutling data in text format was not standardized. Function has the following atttributes:\n",
    "* Input is the path to a pdf \n",
    "* images are saved in the directory designated in `img_path` \n",
    "* output should be the pdf pages as images in a list? "
   ]
  },
  {
   "cell_type": "code",
   "execution_count": 5,
   "id": "52adb19c",
   "metadata": {},
   "outputs": [],
   "source": [
    "def pdf_to_images(pdf_path, dpi=200, img_path='./pdf_to_images/'):\n",
    "    doc = fitz.open(pdf_path)\n",
    "    images = []\n",
    "\n",
    "    if not os.path.exists(img_path):\n",
    "        os.makedirs(img_path)\n",
    "\n",
    "    for i, page in enumerate(doc):\n",
    "        # render at higher resolution for OCR\n",
    "        pix = page.get_pixmap(matrix=fitz.Matrix(dpi/72, dpi/72))\n",
    "        img = Image.open(io.BytesIO(pix.tobytes(\"png\")))\n",
    "        out_path = f\"{img_path}page_{i+1}.png\"\n",
    "        img.save(out_path)\n",
    "        images.append(out_path)\n",
    "    return images\n"
   ]
  },
  {
   "cell_type": "markdown",
   "id": "73ef47aa",
   "metadata": {},
   "source": [
    "Debugging cell"
   ]
  },
  {
   "cell_type": "code",
   "execution_count": 6,
   "id": "1419dcf4",
   "metadata": {},
   "outputs": [],
   "source": [
    "def save_text(\n",
    "        text,\n",
    "        ouput = 'text.txt'\n",
    "        ):\n",
    "    with open(ouput,'w', encoding='utf-8') as file:\n",
    "        file.write(text)"
   ]
  },
  {
   "cell_type": "markdown",
   "id": "dd437040",
   "metadata": {},
   "source": [
    "`query_ollama` function calls the local Ollama LLM in this case. The argument for this function are\n",
    "\n",
    "* prompt in utf-8 string format \n",
    "* desired model - 'mistral' is the default argument"
   ]
  },
  {
   "cell_type": "code",
   "execution_count": 7,
   "id": "a4c8af5f",
   "metadata": {},
   "outputs": [],
   "source": [
    "def query_ollama (\n",
    "        prompt,\n",
    "        model = 'mistral'\n",
    "        ):\n",
    "    \n",
    "    ollama_path = r\"C:\\Users\\Faisal\\AppData\\Local\\Programs\\Ollama\\ollama.exe\"\n",
    "    #path to Ollama executable \n",
    "    result = subprocess.run(\n",
    "        [ollama_path, \"run\", model],\n",
    "        input=prompt.encode(\"utf-8\"),\n",
    "        capture_output=True\n",
    "    )\n",
    "    return result.stdout.decode(\"utf-8\")\n"
   ]
  },
  {
   "cell_type": "markdown",
   "id": "6b7544ba",
   "metadata": {},
   "source": [
    "Image version - `query_ollama_image` function calls the local Ollama LLM with the prompt defined elsewhere and an image. The argument for this function are\n",
    "\n",
    "* prompt in utf-8 string format \n",
    "* desired model - 'qwen2.5vl:7b' is the default argument"
   ]
  },
  {
   "cell_type": "code",
   "execution_count": 8,
   "id": "f5aff65e",
   "metadata": {},
   "outputs": [],
   "source": [
    "def query_ollama_image(image_path, prompt, model=\"qwen2.5vl:7b\"):\n",
    "    # Proper multimodal schema: content is a list of \"parts\"\n",
    "    message = [{\n",
    "        \"role\": \"user\",\n",
    "        \"content\": [\n",
    "            {\"type\": \"text\", \"text\": prompt},\n",
    "            {\"type\": \"image\", \"image\": image_path}\n",
    "        ]\n",
    "    }]\n",
    "    \n",
    "    result = subprocess.run(\n",
    "        [\"ollama\", \"run\", model],\n",
    "        input=json.dumps(message).encode(\"utf-8\"),\n",
    "        capture_output=True\n",
    "    )\n",
    "    \n",
    "    return result.stdout.decode(\"utf-8\").strip()\n",
    "\n"
   ]
  },
  {
   "cell_type": "code",
   "execution_count": 9,
   "id": "4d9abbec",
   "metadata": {},
   "outputs": [],
   "source": [
    "# GOOGLE SUGGESTED !!!!!!!!!!!!!!\n",
    "def query_ollama_image(image_path, prompt, model=\"qwen2.5vl:7b\"):\n",
    "    # The image path is provided as a command-line argument.\n",
    "    result = subprocess.run(\n",
    "        [\"ollama\", \"run\", model, \"--verbose\"], # --verbose is helpful for debugging\n",
    "        input=f\"{prompt} {image_path}\".encode(\"utf-8\"),\n",
    "        capture_output=True\n",
    "    )\n",
    "    return result.stdout.decode(\"utf-8\").strip()"
   ]
  },
  {
   "cell_type": "markdown",
   "id": "50ad3979",
   "metadata": {},
   "source": [
    "Prompt is defined here, model is queried and error handling is included. Arguments are:\n",
    " * extracted text from pdf and limited to first 2000 characters\n",
    " * model - default is 'mistral'\n",
    " \n",
    " Output should be the relevant conditions in json format."
   ]
  },
  {
   "cell_type": "code",
   "execution_count": 10,
   "id": "3e490913",
   "metadata": {},
   "outputs": [],
   "source": [
    "def extract_conditions(\n",
    "        text, \n",
    "        model=\"mistral\"\n",
    "        ):\n",
    "    prompt = f\"\"\"\n",
    "    Extract the following experimental parameters from the text:\n",
    "\n",
    "    - concentration\n",
    "    - hydrolysis ratio\n",
    "    - rate of base addition\n",
    "    - elemental cation ratio\n",
    "\n",
    "    Return ONLY a JSON array of objects with keys:\n",
    "    [\"parameter\", \"value\", \"unit\", \"context\"].\n",
    "\n",
    "    Text:\n",
    "    {text[:2000]}  # limit to first 2000 chars per call\n",
    "    \"\"\"\n",
    "    response = query_ollama(prompt, model=model)\n",
    "    \n",
    "    try:\n",
    "        data = json.loads(response)\n",
    "    except:\n",
    "        print(\"Could not parse JSON, raw output:\", response[:300])\n",
    "        data = []\n",
    "    \n",
    "    return data\n"
   ]
  },
  {
   "cell_type": "markdown",
   "id": "c3522317",
   "metadata": {},
   "source": [
    "Uses the `pdf_to_images` function to extract tables, and converts them to markdown table format. Results are appended to a list of dicitonaries "
   ]
  },
  {
   "cell_type": "code",
   "execution_count": 11,
   "id": "a1a7d0b5",
   "metadata": {},
   "outputs": [],
   "source": [
    "def extract_tables_from_pdf(pdf_path, model=\"qwen2.5vl:7b\"):\n",
    "    images = pdf_to_images(pdf_path)\n",
    "    tables = []\n",
    "    \n",
    "    for img in tqdm(images, desc=\"OCR with Qwen\"):\n",
    "        prompt = \"\"\"Extract all tables from this page. Return them in Markdown table format. If you think there is not table present, describe what you see instead.\n",
    "        Return only the first 10 rows.\n",
    "        \"\"\"\n",
    "        response = query_ollama_image(img, prompt, model=model)\n",
    "        tables.append({\"page\": img, \"tables\": response})\n",
    "    return tables\n"
   ]
  },
  {
   "cell_type": "markdown",
   "id": "dfb0f6cf",
   "metadata": {},
   "source": [
    "Finally `process_pdfs` iterates through all the pdfs in a folder, extracts their text, prompts the LLM, and produces a `parsed_conditons.csv` file with the compiled conditions. Arguments are:\n",
    "* path to a folder containing the pdfs \n",
    "* path/name of the ouput csv file - default is `parsed_conditons.csv`\n",
    "* chosen model - default is 'mistral'\n",
    "\n",
    "Output is the csv file. "
   ]
  },
  {
   "cell_type": "code",
   "execution_count": 12,
   "id": "e797072f",
   "metadata": {},
   "outputs": [],
   "source": [
    "def process_pdfs(pdf_folder, output_csv=\"parsed_conditions.csv\", model=\"mistral\"):\n",
    "    all_data = []\n",
    "    \n",
    "    # extracting from body text\n",
    "    for file in tqdm(os.listdir(pdf_folder)):\n",
    "        if file.endswith(\".pdf\"):\n",
    "            print(f\"Processing {file}...\")\n",
    "            text = extract_text(os.path.join(pdf_folder, file))\n",
    "            conditions = extract_conditions(text, model=model)\n",
    "            for c in tqdm(conditions):\n",
    "                c[\"source\"] = file  # tag with filename\n",
    "            all_data.extend(conditions)\n",
    "\n",
    "            # Extracting from tables via OCR\n",
    "            if model == 'qwen2.5vl:7b':\n",
    "                tables = extract_tables_from_pdf(os.path.join(pdf_folder, file), model=model)\n",
    "                with open(file.replace(\".pdf\", \"_tables.json\"), \"w\", encoding=\"utf-8\") as f:\n",
    "                    json.dump(tables, f, indent=2)\n",
    "    \n",
    "    df = pd.DataFrame(all_data)\n",
    "    df.to_csv(output_csv, index=False)\n",
    "    print(f\"Saved {len(df)} rows to {output_csv}\")\n"
   ]
  },
  {
   "cell_type": "markdown",
   "id": "4339ed52",
   "metadata": {},
   "source": [
    "# GOOGLE SUGGESTED !!!!!!!!!!!!!!\n",
    "\n",
    "# Assume the other functions (extract_text, pdf_to_images, query_ollama, query_ollama_image, extract_conditions, extract_tables_from_pdf) are already defined and correct as per the previous correction.\n",
    "\n",
    "def parse_markdown_table_with_ollama(markdown_table, model=\"mistral\"):\n",
    "    \"\"\"\n",
    "    Parses a markdown table string into a JSON array of objects \n",
    "    using a text-based LLM.\n",
    "    \"\"\"\n",
    "    prompt = f\"\"\"\n",
    "    You have been provided with a Markdown table extracted from a research article.\n",
    "    Extract the following experimental parameters from the table:\n",
    "    - concentration\n",
    "    - hydrolysis ratio\n",
    "    - rate of base addition\n",
    "    - elemental cation ratio\n",
    "\n",
    "    Return ONLY a JSON array of objects with keys:\n",
    "    [\"parameter\", \"value\", \"unit\", \"context\"].\n",
    "    \n",
    "    Markdown Table:\n",
    "    {markdown_table}\n",
    "    \"\"\"\n",
    "    \n",
    "    # Use the existing query_ollama function for text-based parsing\n",
    "    response = query_ollama(prompt, model=model)\n",
    "\n",
    "    try:\n",
    "        data = json.loads(response)\n",
    "    except json.JSONDecodeError:\n",
    "        print(\"Could not parse JSON from table markdown, raw output:\", response[:300])\n",
    "        data = []\n",
    "    \n",
    "    return data\n",
    "\n",
    "#----------------------------------------------------------------------------------------------------\n",
    "\n",
    "def process_pdfs(pdf_folder, output_csv=\"parsed_conditions.csv\", model=\"mistral\"):\n",
    "    all_data = []\n",
    "    \n",
    "    for file in tqdm(os.listdir(pdf_folder), desc=\"Processing PDFs\"):\n",
    "        if file.endswith(\".pdf\"):\n",
    "            print(f\"Processing {file}...\")\n",
    "            file_path = os.path.join(pdf_folder, file)\n",
    "\n",
    "            # --- Text-based extraction (for the body of the article) ---\n",
    "            try:\n",
    "                text = extract_text(file_path)\n",
    "                conditions_from_text = extract_conditions(text, model=model)\n",
    "                for c in conditions_from_text:\n",
    "                    c[\"source\"] = f\"{file}_body_text\"\n",
    "                all_data.extend(conditions_from_text)\n",
    "            except Exception as e:\n",
    "                print(f\"Error processing text for {file}: {e}\")\n",
    "\n",
    "            # --- Image-based extraction (for tables via OCR) ---\n",
    "            # This part only runs if the specified model is a multimodal one\n",
    "            if model == 'qwen2.5vl:7b':\n",
    "                try:\n",
    "                    tables_data = extract_tables_from_pdf(file_path, model=model)\n",
    "                    \n",
    "                    # You will use a new text-based LLM call to parse the markdown table string\n",
    "                    for page_data in tables_data:\n",
    "                        markdown_tables_string = page_data[\"tables\"]\n",
    "                        # Call the new function to parse the markdown string\n",
    "                        conditions_from_tables = parse_markdown_table_with_ollama(markdown_tables_string)\n",
    "                        \n",
    "                        for c in conditions_from_tables:\n",
    "                            # Add a source tag that includes the page information\n",
    "                            c[\"source\"] = f\"{file}_table_page_{page_data['page'].split('_')[-1].split('.')[0]}\"\n",
    "                        \n",
    "                        all_data.extend(conditions_from_tables)\n",
    "                except Exception as e:\n",
    "                    print(f\"Error processing tables for {file}: {e}\")\n",
    "\n",
    "    df = pd.DataFrame(all_data)\n",
    "    df.to_csv(output_csv, index=False)\n",
    "    print(f\"Saved {len(df)} rows to {output_csv}\")"
   ]
  },
  {
   "cell_type": "markdown",
   "id": "f6522218",
   "metadata": {},
   "source": [
    "Here we call the `process_pdfs` function to analyze all the pdfs. Don't forget to add a path to the pdf folder "
   ]
  },
  {
   "cell_type": "code",
   "execution_count": 14,
   "id": "5a734f60",
   "metadata": {},
   "outputs": [],
   "source": [
    "# process_pdfs(\n",
    "#     pdf_folder='./articles',\n",
    "#     output_csv='parsed_conditions.csv',\n",
    "#     model='mistral'\n",
    "# )"
   ]
  },
  {
   "cell_type": "code",
   "execution_count": 15,
   "id": "22b6c624",
   "metadata": {},
   "outputs": [
    {
     "name": "stderr",
     "output_type": "stream",
     "text": [
      "Processing PDFs:   0%|          | 0/1 [00:00<?, ?it/s]"
     ]
    },
    {
     "name": "stdout",
     "output_type": "stream",
     "text": [
      "Processing d4nr00473f.pdf...\n"
     ]
    },
    {
     "name": "stderr",
     "output_type": "stream",
     "text": [
      "100%|██████████| 12/12 [00:00<00:00, 214.46it/s]\n"
     ]
    },
    {
     "name": "stdout",
     "output_type": "stream",
     "text": [
      "Could not parse JSON, raw output: ```json\n",
      "[\n",
      "    {\n",
      "        \"parameter\": \"concentration\",\n",
      "        \"value\": \"Increasing\",\n",
      "        \"unit\": \"Not specified\",\n",
      "        \"context\": \"limits nanotube production for imogolite nanotubes\"\n",
      "    },\n",
      "    {\n",
      "        \"parameter\": \"hydrolysis ratio\",\n",
      "        \"value\": \"relatively high or low\",\n",
      "        \"unit\n"
     ]
    },
    {
     "name": "stderr",
     "output_type": "stream",
     "text": [
      "OCR with Qwen: 100%|██████████| 12/12 [00:48<00:00,  4.01s/it]\n"
     ]
    },
    {
     "name": "stdout",
     "output_type": "stream",
     "text": [
      "Could not parse JSON from table markdown, raw output:  I apologize for the confusion earlier. Since there's no table provided in the description, let me provide an example based on assumptions about the content from your description:\n",
      "\n",
      "```json\n",
      "[\n",
      "  {\n",
      "    \"parameter\": \"Concentration\",\n",
      "    \"value\": \"0.1 M\",\n",
      "    \"unit\": \"Molar\",\n",
      "    \"context\": \"Concentratio\n",
      "Could not parse JSON from table markdown, raw output:  I apologize for the misunderstanding. Since there's no table provided, let me provide an example based on a hypothetical table from the same research article:\n",
      "\n",
      "```json\n",
      "[\n",
      "  {\n",
      "    \"parameter\": \"Concentration\",\n",
      "    \"value\": \"0.1 M\",\n",
      "    \"unit\": \"Molarity\",\n",
      "    \"context\": \"Aluminum nitrate solution\"\n",
      "  \n",
      "Could not parse JSON from table markdown, raw output:  I'm sorry for any confusion, but as the Markdown table you provided is not visible, I'm unable to extract the experimental parameters from it. I can only provide an example of how the JSON array would look like when filled with data:\n",
      "\n",
      "```json\n",
      "[\n",
      "    {\n",
      "        \"parameter\": \"concentration\",\n",
      "        \"v\n",
      "Could not parse JSON from table markdown, raw output:  Based on the provided Markdown table, here's a JSON array of objects with keys: [\"parameter\", \"value\", \"unit\", \"context\"] for the requested experimental parameters:\n",
      "\n",
      "```json\n",
      "[\n",
      "  {\n",
      "    \"parameter\": \"concentration\",\n",
      "    \"value\": \"0.2\",\n",
      "    \"unit\": \"M\",\n",
      "    \"context\": \"Given concentration of the solut\n",
      "Could not parse JSON from table markdown, raw output:  I'm sorry for any confusion, but it seems there is no Markdown table provided in the text you've given. In order to answer your question, I would need a table with numerical data corresponding to the parameters you've mentioned (concentration, hydrolysis ratio, rate of base addition, and elemental \n",
      "Could not parse JSON from table markdown, raw output:  Here's the JSON array of objects with the requested experimental parameters:\n",
      "\n",
      "```json\n",
      "[\n",
      "    {\n",
      "        \"parameter\": \"Concentration\",\n",
      "        \"value\": \"0.005\",\n",
      "        \"unit\": \"M\",\n",
      "        \"context\": \"NaOH concentration\"\n",
      "    },\n",
      "    {\n",
      "        \"parameter\": \"Rate of base addition\",\n",
      "        \"value\": \"2, \n",
      "Could not parse JSON from table markdown, raw output:  I'm sorry for any confusion, but without a specific table to work with, I can't provide the exact JSON array you requested. However, here's an example of how the data could be structured if extracted from hypothetical table entries:\n",
      "\n",
      "```json\n",
      "[\n",
      "  {\n",
      "    \"parameter\": \"concentration\",\n",
      "    \"value\": \"1.0\n",
      "Could not parse JSON from table markdown, raw output:  I'm sorry for the misunderstanding. Since there is no table provided in the text, I cannot extract the experimental parameters as requested. However, I can provide an example of how the JSON array could look like if there were data available:\n",
      "\n",
      "```json\n",
      "[\n",
      "  {\n",
      "    \"parameter\": \"Concentration\",\n",
      "    \"va\n",
      "Could not parse JSON from table markdown, raw output:  I apologize for the confusion. As there seems to be no table provided in the given context, here's an example of how the JSON array would look like if we had the experimental parameters from a hypothetical table:\n",
      "\n",
      "```json\n",
      "[\n",
      "  {\n",
      "    \"parameter\": \"Concentration\",\n",
      "    \"value\": \"0.1 M\",\n",
      "    \"unit\": \"Mo\n",
      "Could not parse JSON from table markdown, raw output:  I apologize for the confusion. Here's an example of what the JSON array would look like if the table was provided:\n",
      "\n",
      "```json\n",
      "[\n",
      "    {\n",
      "        \"parameter\": \"Concentration\",\n",
      "        \"value\": \"10 mM\",\n",
      "        \"unit\": \"molarity\",\n",
      "        \"context\": \"Solution A\"\n",
      "    },\n",
      "    {\n",
      "        \"parameter\": \"Hydrolys\n"
     ]
    },
    {
     "name": "stderr",
     "output_type": "stream",
     "text": [
      "Processing PDFs: 100%|██████████| 1/1 [01:32<00:00, 92.99s/it]"
     ]
    },
    {
     "name": "stdout",
     "output_type": "stream",
     "text": [
      "Could not parse JSON from table markdown, raw output:  I apologize for the confusion, as it appears there is no table provided in the text you've shared. In order to extract the experimental parameters from a Markdown table, I would need to access the actual table itself.\n",
      "\n",
      "However, I can still help you understand how to format the experimental paramete\n",
      "Saved 5 rows to parsed_conditions.csv\n"
     ]
    },
    {
     "name": "stderr",
     "output_type": "stream",
     "text": [
      "\n"
     ]
    }
   ],
   "source": [
    "process_pdfs(\n",
    "    pdf_folder='./articles',\n",
    "    output_csv='parsed_conditions.csv',\n",
    "    model='qwen2.5vl:7b'\n",
    ")"
   ]
  },
  {
   "cell_type": "code",
   "execution_count": null,
   "id": "c38cd667",
   "metadata": {},
   "outputs": [],
   "source": []
  },
  {
   "cell_type": "code",
   "execution_count": null,
   "id": "d664c1e4",
   "metadata": {},
   "outputs": [],
   "source": []
  }
 ],
 "metadata": {
  "kernelspec": {
   "display_name": "Python 3",
   "language": "python",
   "name": "python3"
  },
  "language_info": {
   "codemirror_mode": {
    "name": "ipython",
    "version": 3
   },
   "file_extension": ".py",
   "mimetype": "text/x-python",
   "name": "python",
   "nbconvert_exporter": "python",
   "pygments_lexer": "ipython3",
   "version": "3.13.0"
  }
 },
 "nbformat": 4,
 "nbformat_minor": 5
}
