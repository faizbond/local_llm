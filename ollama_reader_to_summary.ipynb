{
 "cells": [
  {
   "cell_type": "markdown",
   "id": "b664c2ec",
   "metadata": {},
   "source": [
    "# Ollama Notebook \n",
    " A notebook to extract relevant, predefined parameters from research articles and provide the results in a desired format. "
   ]
  },
  {
   "cell_type": "code",
   "execution_count": 4,
   "id": "bd9b8f81",
   "metadata": {},
   "outputs": [],
   "source": [
    "# if required\n",
    "# !pip install pymupdf \n",
    "# !pip install python-docx\n",
    "\n"
   ]
  },
  {
   "cell_type": "code",
   "execution_count": 5,
   "id": "2dfde820",
   "metadata": {},
   "outputs": [],
   "source": [
    "# importing relevant libraries \n",
    "import pandas as pd\n",
    "import fitz\n",
    "import json\n",
    "import subprocess\n",
    "import os  \n",
    "from tqdm import tqdm\n",
    "import io\n",
    "from PIL import Image\n",
    "from docx import Document"
   ]
  },
  {
   "cell_type": "code",
   "execution_count": 7,
   "id": "979227cd",
   "metadata": {},
   "outputs": [],
   "source": [
    "# os.environ['CUDA_VISIBLE_DEVICES'] = 'GPU-4ce5b5b6-0e10-58a3-b09a-2f4946277a5a'"
   ]
  },
  {
   "cell_type": "markdown",
   "id": "312454f4",
   "metadata": {},
   "source": [
    "The `extract_text` function reads in a pdf, and appends the entire content into a single string. It takes the path to a pdf as its argument."
   ]
  },
  {
   "cell_type": "code",
   "execution_count": 8,
   "id": "6a0790c1",
   "metadata": {},
   "outputs": [],
   "source": [
    "def extract_text (pdf_path):\n",
    "    document = fitz.open(pdf_path)\n",
    "    text = ''\n",
    "    for page in tqdm(document):\n",
    "        text += page.get_text('text') + '\\n'\n",
    "    return text "
   ]
  },
  {
   "cell_type": "markdown",
   "id": "8424efba",
   "metadata": {},
   "source": [
    "`pdf_to_images` converts the pdfs to images for easier extraction of structured data. Noticed in preliminary trials that normal text extraction can lead to wonky results and resutling data in text format was not standardized. Function has the following atttributes:\n",
    "* Input is the path to a pdf \n",
    "* images are saved in the directory designated in `img_path` \n",
    "* output should be the pdf pages as images in a list? "
   ]
  },
  {
   "cell_type": "code",
   "execution_count": 9,
   "id": "52adb19c",
   "metadata": {},
   "outputs": [],
   "source": [
    "def pdf_to_images(pdf_path, dpi=200, img_path='./pdf_to_images/'):\n",
    "    doc = fitz.open(pdf_path)\n",
    "    images = []\n",
    "\n",
    "    if not os.path.exists(img_path):\n",
    "        os.makedirs(img_path)\n",
    "\n",
    "    for i, page in enumerate(doc):\n",
    "        # render at higher resolution for OCR\n",
    "        pix = page.get_pixmap(matrix=fitz.Matrix(dpi/72, dpi/72))\n",
    "        img = Image.open(io.BytesIO(pix.tobytes(\"png\")))\n",
    "        out_path = f\"{img_path}page_{i+1}.png\"\n",
    "        img.save(out_path)\n",
    "        images.append(out_path)\n",
    "    return images\n"
   ]
  },
  {
   "cell_type": "markdown",
   "id": "73ef47aa",
   "metadata": {},
   "source": [
    "Debugging cell"
   ]
  },
  {
   "cell_type": "code",
   "execution_count": 10,
   "id": "1419dcf4",
   "metadata": {},
   "outputs": [],
   "source": [
    "def save_text(\n",
    "        text,\n",
    "        ouput = 'text.txt'\n",
    "        ):\n",
    "    with open(ouput,'w', encoding='utf-8') as file:\n",
    "        file.write(text)"
   ]
  },
  {
   "cell_type": "markdown",
   "id": "dd437040",
   "metadata": {},
   "source": [
    "`query_ollama` function calls the local Ollama LLM in this case. The argument for this function are\n",
    "\n",
    "* prompt in utf-8 string format \n",
    "* desired model - 'mistral' is the default argument"
   ]
  },
  {
   "cell_type": "code",
   "execution_count": 11,
   "id": "a4c8af5f",
   "metadata": {},
   "outputs": [],
   "source": [
    "def query_ollama (\n",
    "        prompt,\n",
    "        model = 'mistral'\n",
    "        ):\n",
    "    \n",
    "    ollama_path = r\"C:\\Users\\Faisal\\AppData\\Local\\Programs\\Ollama\\ollama.exe\"\n",
    "    #path to Ollama executable \n",
    "    result = subprocess.run(\n",
    "        [ollama_path, \"run\", model],\n",
    "        input=prompt.encode(\"utf-8\"),\n",
    "        capture_output=True\n",
    "    )\n",
    "    return result.stdout.decode(\"utf-8\")\n"
   ]
  },
  {
   "cell_type": "code",
   "execution_count": 12,
   "id": "19a29a44",
   "metadata": {},
   "outputs": [],
   "source": [
    "TEMPLATE_PROMPT = \"\"\"\n",
    "You are an expert in extracting synthesis and calcination conditions from scientific papers.  \n",
    "Given the following text (excerpt of a paper), fill in the template below.  \n",
    "Only include information explicitly mentioned in the text. If something is not reported, leave it blank.  \n",
    "\n",
    "Template:\n",
    "\n",
    "Synthesis conditions:\n",
    "Ni state: \n",
    "Ni source: \n",
    "Ni concentration: \n",
    "Base: \n",
    "Chelating agent: \n",
    "pH: \n",
    "Temp: \n",
    "Atmosphere: \n",
    "Pressure: \n",
    "Ni flowrate: \n",
    "Chelating agent flowrate: \n",
    "OH flowrate: \n",
    "Mixing method: \n",
    "Form: \n",
    "\n",
    "Calcination conditions:\n",
    "Li source: \n",
    "Ni to Li ratio: \n",
    "Final temp: \n",
    "Ramp rate: \n",
    "Duration: \n",
    "Atmosphere: \n",
    "Pressure: \n",
    "Intermediate annealing: \n",
    "Form: \n",
    "Furnace type: \n",
    "\n",
    "Observations:\n",
    "Rock salt structure observed at: \n",
    "Layered LiNiO2 observed at: \n",
    "Decomposition observed at: \n",
    "Intermediate phases: \n",
    "\n",
    "Text to analyze:\n",
    "{paper_text}\n",
    "\"\"\".strip()\n"
   ]
  },
  {
   "cell_type": "code",
   "execution_count": 13,
   "id": "d0337bf2",
   "metadata": {},
   "outputs": [],
   "source": [
    "def build_prompt_from_template(text, max_chars=8000):\n",
    "    # limit to avoid context overflow on local models\n",
    "    return TEMPLATE_PROMPT.format(paper_text=text[:max_chars])\n"
   ]
  },
  {
   "cell_type": "markdown",
   "id": "6b7544ba",
   "metadata": {},
   "source": [
    "Image version - `query_ollama_image` function calls the local Ollama LLM with the prompt defined elsewhere and an image. The argument for this function are\n",
    "\n",
    "* prompt in utf-8 string format \n",
    "* desired model - 'qwen2.5vl:7b' is the default argument"
   ]
  },
  {
   "cell_type": "code",
   "execution_count": 14,
   "id": "f5aff65e",
   "metadata": {},
   "outputs": [],
   "source": [
    "def query_ollama_image(image_path, prompt, model=\"qwen2.5vl:7b\"):\n",
    "    # Proper multimodal schema: content is a list of \"parts\"\n",
    "    message = [{\n",
    "        \"role\": \"user\",\n",
    "        \"content\": [\n",
    "            {\"type\": \"text\", \"text\": prompt},\n",
    "            {\"type\": \"image\", \"image\": image_path}\n",
    "        ]\n",
    "    }]\n",
    "    \n",
    "    result = subprocess.run(\n",
    "        [\"ollama\", \"run\", model],\n",
    "        input=json.dumps(message).encode(\"utf-8\"),\n",
    "        capture_output=True\n",
    "    )\n",
    "    \n",
    "    return result.stdout.decode(\"utf-8\").strip()\n",
    "\n"
   ]
  },
  {
   "cell_type": "code",
   "execution_count": 15,
   "id": "8806617b",
   "metadata": {},
   "outputs": [],
   "source": [
    "def strip_code_fences(s: str) -> str:\n",
    "    s = s.strip()\n",
    "    if s.startswith(\"```\"):\n",
    "        # remove first fenced block if present\n",
    "        parts = s.split(\"```\")\n",
    "        # grab the first code block content if it exists, else join non-fenced parts\n",
    "        if len(parts) >= 3:\n",
    "            return parts[1].strip()\n",
    "        return \"\".join(p for i,p in enumerate(parts) if i % 2 == 0).strip()\n",
    "    return s"
   ]
  },
  {
   "cell_type": "markdown",
   "id": "50ad3979",
   "metadata": {},
   "source": [
    "Prompt is defined here, model is queried and error handling is included. Arguments are:\n",
    " * extracted text from pdf and limited to first 2000 characters\n",
    " * model - default is 'mistral'\n",
    " \n",
    " Output should be the relevant conditions in json format."
   ]
  },
  {
   "cell_type": "code",
   "execution_count": 16,
   "id": "3e490913",
   "metadata": {},
   "outputs": [],
   "source": [
    "def extract_filled_template(text, model=\"mistral\", max_chars=8000):\n",
    "    prompt = build_prompt_from_template(text, max_chars=max_chars)\n",
    "    response = query_ollama(prompt, model=model)\n",
    "    return strip_code_fences(response)\n"
   ]
  },
  {
   "cell_type": "markdown",
   "id": "c3522317",
   "metadata": {},
   "source": [
    "Uses the `pdf_to_images` function to extract tables, and converts them to markdown table format. Results are appended to a list of dicitonaries "
   ]
  },
  {
   "cell_type": "code",
   "execution_count": 17,
   "id": "a1a7d0b5",
   "metadata": {},
   "outputs": [],
   "source": [
    "def extract_tables_from_pdf(pdf_path, model=\"qwen2.5vl:7b\"):\n",
    "    images = pdf_to_images(pdf_path)\n",
    "    tables = []\n",
    "    \n",
    "    for img in tqdm(images, desc=\"OCR with Qwen\"):\n",
    "        prompt = \"\"\"Extract all tables from this page. Return them in Markdown table format. If you think there is not table present, describe what you see instead.\n",
    "        Return only the first 10 rows.\n",
    "        \"\"\"\n",
    "        response = query_ollama_image(img, prompt, model=model)\n",
    "        tables.append({\"page\": img, \"tables\": response})\n",
    "    return tables\n"
   ]
  },
  {
   "cell_type": "markdown",
   "id": "dfb0f6cf",
   "metadata": {},
   "source": [
    "Finally `process_pdfs` iterates through all the pdfs in a folder, extracts their text, prompts the LLM, and produces a `parsed_conditons.csv` file with the compiled conditions. Arguments are:\n",
    "* path to a folder containing the pdfs \n",
    "* path/name of the ouput csv file - default is `parsed_conditons.csv`\n",
    "* chosen model - default is 'mistral'\n",
    "\n",
    "Output is the csv file. "
   ]
  },
  {
   "cell_type": "code",
   "execution_count": 18,
   "id": "e797072f",
   "metadata": {},
   "outputs": [],
   "source": [
    "def process_pdfs_to_word(\n",
    "    pdf_folder,\n",
    "    output_docx=\"parsed_conditions.docx\",\n",
    "    model=\"mistral\",\n",
    "    max_chars=8000\n",
    "):\n",
    "    doc = Document()\n",
    "\n",
    "    for file in tqdm(os.listdir(pdf_folder), desc=\"Processing PDFs\"):\n",
    "        if not file.lower().endswith(\".pdf\"):\n",
    "            continue\n",
    "\n",
    "        pdf_path = os.path.join(pdf_folder, file)\n",
    "        print(f\"Processing {file}...\")\n",
    "        \n",
    "        # 1) extract text from the PDF\n",
    "        text = extract_text(pdf_path)\n",
    "\n",
    "        # 2) run your template prompt against the text\n",
    "        filled = extract_filled_template(text, model=model, max_chars=max_chars)\n",
    "        if not filled.strip():\n",
    "            filled = \"No extraction produced for this paper.\"\n",
    "\n",
    "        # 3) start a new page (except for the first entry)\n",
    "        if doc.paragraphs:\n",
    "            doc.add_page_break()\n",
    "\n",
    "        # 4) heading + body\n",
    "        doc.add_heading(f\"{file}\", level=1)\n",
    "\n",
    "        # preserve line breaks by adding one paragraph per line\n",
    "        for line in filled.splitlines():\n",
    "            doc.add_paragraph(line)\n",
    "\n",
    "    # 5) save once at the end\n",
    "    doc.save(output_docx)\n",
    "    print(f\"Saved summaries to {output_docx}\")\n"
   ]
  },
  {
   "cell_type": "markdown",
   "id": "f6522218",
   "metadata": {},
   "source": [
    "Here we call the `process_pdfs` function to analyze all the pdfs. Don't forget to add a path to the pdf folder "
   ]
  },
  {
   "cell_type": "code",
   "execution_count": 20,
   "id": "22b6c624",
   "metadata": {},
   "outputs": [
    {
     "name": "stderr",
     "output_type": "stream",
     "text": [
      "Processing PDFs:   0%|          | 0/10 [00:00<?, ?it/s]"
     ]
    },
    {
     "name": "stdout",
     "output_type": "stream",
     "text": [
      "Processing Advanced Energy Materials - 2023 - Song - Li Ni Intermixing  The Real Origin of Lattice Oxygen Stability in Co‐Free Ni‐Rich.pdf...\n"
     ]
    },
    {
     "name": "stderr",
     "output_type": "stream",
     "text": [
      "100%|██████████| 12/12 [00:00<00:00, 394.42it/s]\n",
      "Processing PDFs:  10%|█         | 1/10 [00:05<00:49,  5.52s/it]"
     ]
    },
    {
     "name": "stdout",
     "output_type": "stream",
     "text": [
      "Processing Advanced Materials - 2024 - Tayal - In Situ Insights into Cathode Calcination for Predictive Synthesis  Kinetic.pdf...\n"
     ]
    },
    {
     "name": "stderr",
     "output_type": "stream",
     "text": [
      "100%|██████████| 13/13 [00:00<00:00, 361.69it/s]\n",
      "Processing PDFs:  20%|██        | 2/10 [00:12<00:52,  6.51s/it]"
     ]
    },
    {
     "name": "stdout",
     "output_type": "stream",
     "text": [
      "Processing An in situ structural study on the synthesis and decomposition of LiNiO2.pdf...\n"
     ]
    },
    {
     "name": "stderr",
     "output_type": "stream",
     "text": [
      "100%|██████████| 13/13 [00:00<00:00, 332.52it/s]\n",
      "Processing PDFs:  30%|███       | 3/10 [00:18<00:43,  6.19s/it]"
     ]
    },
    {
     "name": "stdout",
     "output_type": "stream",
     "text": [
      "Processing d4nr00473f.pdf...\n"
     ]
    },
    {
     "name": "stderr",
     "output_type": "stream",
     "text": [
      "100%|██████████| 12/12 [00:00<00:00, 341.51it/s]\n",
      "Processing PDFs:  40%|████      | 4/10 [00:24<00:36,  6.01s/it]"
     ]
    },
    {
     "name": "stdout",
     "output_type": "stream",
     "text": [
      "Processing hua-et-al-2020-chemical-and-structural-evolution-during-the-synthesis-of-layered-li(ni-co-mn)o2-oxides.pdf...\n"
     ]
    },
    {
     "name": "stderr",
     "output_type": "stream",
     "text": [
      "100%|██████████| 14/14 [00:00<00:00, 153.84it/s]\n",
      "Processing PDFs:  50%|█████     | 5/10 [00:30<00:30,  6.13s/it]"
     ]
    },
    {
     "name": "stdout",
     "output_type": "stream",
     "text": [
      "Processing Monitoring the Formation of Nickel-Poor and Nickel-Rich Oxide Cathode Materials for Lithium-Ion Batteries with Synchrotron Radiation.pdf...\n"
     ]
    },
    {
     "name": "stderr",
     "output_type": "stream",
     "text": [
      "100%|██████████| 13/13 [00:00<00:00, 126.60it/s]\n",
      "Processing PDFs:  60%|██████    | 6/10 [00:37<00:26,  6.56s/it]"
     ]
    },
    {
     "name": "stdout",
     "output_type": "stream",
     "text": [
      "Processing On the Sensitivity of the Ni-rich Layered Cathode Materials for Li-ion Batteries to the Different Calcination Conditions.pdf...\n"
     ]
    },
    {
     "name": "stderr",
     "output_type": "stream",
     "text": [
      "100%|██████████| 20/20 [00:00<00:00, 547.24it/s]\n",
      "Processing PDFs:  70%|███████   | 7/10 [00:43<00:18,  6.08s/it]"
     ]
    },
    {
     "name": "stdout",
     "output_type": "stream",
     "text": [
      "Processing Phase Transformation Behavior and Stability of LiNiO2 Cathode Material for Li-Ion Batteries from In Situ Pressure and Gas Analysis and Operando X-Ray Diffraction.pdf...\n"
     ]
    },
    {
     "name": "stderr",
     "output_type": "stream",
     "text": [
      "100%|██████████| 23/23 [00:00<00:00, 468.78it/s]\n",
      "Processing PDFs:  80%|████████  | 8/10 [00:48<00:12,  6.03s/it]"
     ]
    },
    {
     "name": "stdout",
     "output_type": "stream",
     "text": [
      "Processing Process design for calcination of nickel-based cathode materials by in situ characterization and multiscale modeling.pdf...\n"
     ]
    },
    {
     "name": "stderr",
     "output_type": "stream",
     "text": [
      "100%|██████████| 19/19 [00:00<00:00, 288.48it/s]\n",
      "Processing PDFs:  90%|█████████ | 9/10 [00:54<00:05,  5.81s/it]"
     ]
    },
    {
     "name": "stdout",
     "output_type": "stream",
     "text": [
      "Processing Tuning Molten-Salt-Mediated Calcination in Promoting Single-Crystal Synthesis of Ni-Rich LiNixMnyCozO2 Cathode Materials.pdf...\n"
     ]
    },
    {
     "name": "stderr",
     "output_type": "stream",
     "text": [
      "100%|██████████| 16/16 [00:00<00:00, 183.05it/s]\n",
      "Processing PDFs: 100%|██████████| 10/10 [01:00<00:00,  6.01s/it]"
     ]
    },
    {
     "name": "stdout",
     "output_type": "stream",
     "text": [
      "Saved summaries to parsed_conditions.docx\n"
     ]
    },
    {
     "name": "stderr",
     "output_type": "stream",
     "text": [
      "\n"
     ]
    }
   ],
   "source": [
    "process_pdfs_to_word(\n",
    "    pdf_folder=\"./articles\",\n",
    "    output_docx=\"parsed_conditions.docx\",\n",
    "    model=\"mistral\"  # or 'mixtral:8x7b-instruct' / 'llama3:8b-instruct'\n",
    ")\n"
   ]
  },
  {
   "cell_type": "code",
   "execution_count": null,
   "id": "c7535564",
   "metadata": {},
   "outputs": [],
   "source": []
  }
 ],
 "metadata": {
  "kernelspec": {
   "display_name": "Python 3",
   "language": "python",
   "name": "python3"
  },
  "language_info": {
   "codemirror_mode": {
    "name": "ipython",
    "version": 3
   },
   "file_extension": ".py",
   "mimetype": "text/x-python",
   "name": "python",
   "nbconvert_exporter": "python",
   "pygments_lexer": "ipython3",
   "version": "3.13.0"
  }
 },
 "nbformat": 4,
 "nbformat_minor": 5
}
